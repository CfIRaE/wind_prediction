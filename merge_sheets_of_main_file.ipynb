{
 "cells": [
  {
   "cell_type": "code",
   "execution_count": 131,
   "metadata": {},
   "outputs": [],
   "source": [
    "import pandas as pd"
   ]
  },
  {
   "cell_type": "code",
   "execution_count": 132,
   "metadata": {},
   "outputs": [],
   "source": [
    "file = pd.ExcelFile(\"./data/base.xlsx\")"
   ]
  },
  {
   "cell_type": "code",
   "execution_count": 133,
   "metadata": {},
   "outputs": [],
   "source": [
    "sheet_names = df.sheet_names"
   ]
  },
  {
   "cell_type": "code",
   "execution_count": 134,
   "metadata": {},
   "outputs": [],
   "source": [
    "dfs = pd.read_excel(file, sheet_name=sheet_names, header=2)"
   ]
  },
  {
   "cell_type": "code",
   "execution_count": 135,
   "metadata": {},
   "outputs": [],
   "source": [
    "columns_ = dfs[sheet_names[0]].columns"
   ]
  },
  {
   "cell_type": "code",
   "execution_count": 136,
   "metadata": {},
   "outputs": [],
   "source": [
    "dates = dfs[sheet_names[0]]['Date']"
   ]
  },
  {
   "cell_type": "code",
   "execution_count": 137,
   "metadata": {},
   "outputs": [],
   "source": [
    "date = dates.values[45].date()"
   ]
  },
  {
   "cell_type": "code",
   "execution_count": 138,
   "metadata": {},
   "outputs": [],
   "source": [
    "DATE = []\n",
    "for i in dates.values:\n",
    "    if i == \"29-Feb\":\n",
    "        DATE.append(\"2/29\")\n",
    "    else:\n",
    "        date = i.date()\n",
    "        string = str(date.month)+\"/\"+str(date.day)\n",
    "        DATE.append(string)\n"
   ]
  },
  {
   "cell_type": "code",
   "execution_count": 139,
   "metadata": {},
   "outputs": [
    {
     "name": "stdout",
     "output_type": "stream",
     "text": [
      "Rainfall\n",
      "Rainfall\n",
      "Max Temperature\n",
      "Min Temperature\n",
      "Maximum Humidity\n",
      "Min Humidity\n",
      "Wind Direction\n",
      "CC\n",
      "EVP\n",
      "Wind speed\n",
      "Solar Radiation\n"
     ]
    }
   ],
   "source": [
    "combine_dict = {}\n",
    "print(sheet_names[0])\n",
    "for j in range(10):\n",
    "    combine_list = []\n",
    "    print(sheet_names[j])\n",
    "    for i in columns_[1:]:\n",
    "        for x in dfs[sheet_names[j]][i].values:\n",
    "            combine_list.append(x)\n",
    "    combine_dict[sheet_names[j]] = combine_list\n",
    "     \n",
    "    "
   ]
  },
  {
   "cell_type": "code",
   "execution_count": 140,
   "metadata": {},
   "outputs": [],
   "source": [
    "date_com = []\n",
    "for i in range(10):\n",
    "    for j in DATE:\n",
    "        date_com.append(j)\n",
    "combine_dict['date'] = date_com"
   ]
  },
  {
   "cell_type": "code",
   "execution_count": 141,
   "metadata": {},
   "outputs": [],
   "source": [
    "new_df = pd.DataFrame(combine_dict)\n",
    "new_df.to_csv('./data/main.csv',index=False)"
   ]
  },
  {
   "cell_type": "code",
   "execution_count": null,
   "metadata": {},
   "outputs": [],
   "source": []
  }
 ],
 "metadata": {
  "kernelspec": {
   "display_name": "Python 3",
   "language": "python",
   "name": "python3"
  },
  "language_info": {
   "codemirror_mode": {
    "name": "ipython",
    "version": 3
   },
   "file_extension": ".py",
   "mimetype": "text/x-python",
   "name": "python",
   "nbconvert_exporter": "python",
   "pygments_lexer": "ipython3",
   "version": "3.7.3"
  }
 },
 "nbformat": 4,
 "nbformat_minor": 2
}
